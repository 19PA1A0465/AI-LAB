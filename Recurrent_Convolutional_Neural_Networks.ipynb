{
  "cells": [
    {
      "cell_type": "markdown",
      "metadata": {
        "id": "view-in-github",
        "colab_type": "text"
      },
      "source": [
        "<a href=\"https://colab.research.google.com/github/19PA1A0465/AI-LAB/blob/master/Recurrent_Convolutional_Neural_Networks.ipynb\" target=\"_parent\"><img src=\"https://colab.research.google.com/assets/colab-badge.svg\" alt=\"Open In Colab\"/></a>"
      ]
    },
    {
      "cell_type": "markdown",
      "metadata": {
        "id": "BoZWsKDpvKE2"
      },
      "source": [
        "## Import Libraries"
      ]
    },
    {
      "cell_type": "code",
      "source": [
        "pip install pandarallel\n"
      ],
      "metadata": {
        "colab": {
          "base_uri": "https://localhost:8080/"
        },
        "id": "NEfa0bX8wGyI",
        "outputId": "683cb9cb-fcf9-440b-cf8a-39db668ebc6b"
      },
      "execution_count": 5,
      "outputs": [
        {
          "output_type": "stream",
          "name": "stdout",
          "text": [
            "Looking in indexes: https://pypi.org/simple, https://us-python.pkg.dev/colab-wheels/public/simple/\n",
            "Requirement already satisfied: pandarallel in /usr/local/lib/python3.8/dist-packages (1.6.4)\n",
            "Requirement already satisfied: psutil in /usr/local/lib/python3.8/dist-packages (from pandarallel) (5.4.8)\n",
            "Requirement already satisfied: dill>=0.3.1 in /usr/local/lib/python3.8/dist-packages (from pandarallel) (0.3.6)\n",
            "Requirement already satisfied: pandas>=1 in /usr/local/lib/python3.8/dist-packages (from pandarallel) (1.3.5)\n",
            "Requirement already satisfied: numpy>=1.17.3 in /usr/local/lib/python3.8/dist-packages (from pandas>=1->pandarallel) (1.22.4)\n",
            "Requirement already satisfied: python-dateutil>=2.7.3 in /usr/local/lib/python3.8/dist-packages (from pandas>=1->pandarallel) (2.8.2)\n",
            "Requirement already satisfied: pytz>=2017.3 in /usr/local/lib/python3.8/dist-packages (from pandas>=1->pandarallel) (2022.7.1)\n",
            "Requirement already satisfied: six>=1.5 in /usr/local/lib/python3.8/dist-packages (from python-dateutil>=2.7.3->pandas>=1->pandarallel) (1.15.0)\n"
          ]
        }
      ]
    },
    {
      "cell_type": "code",
      "source": [
        "from google.colab import drive\n",
        "drive.mount('/content/drive')"
      ],
      "metadata": {
        "colab": {
          "base_uri": "https://localhost:8080/"
        },
        "id": "QKFMm4oIUOnV",
        "outputId": "d0c53187-ef43-4a43-94e7-3b8d4bd76e0a"
      },
      "execution_count": 6,
      "outputs": [
        {
          "output_type": "stream",
          "name": "stdout",
          "text": [
            "Drive already mounted at /content/drive; to attempt to forcibly remount, call drive.mount(\"/content/drive\", force_remount=True).\n"
          ]
        }
      ]
    },
    {
      "cell_type": "code",
      "execution_count": 7,
      "metadata": {
        "id": "9cMalacVvKE3",
        "outputId": "f7bffe76-89e2-46f9-b4f9-fb19fc86dc82",
        "colab": {
          "base_uri": "https://localhost:8080/"
        }
      },
      "outputs": [
        {
          "output_type": "stream",
          "name": "stdout",
          "text": [
            "INFO: Pandarallel will run on 1 workers.\n",
            "INFO: Pandarallel will use standard multiprocessing data transfer (pipe) to transfer data between the main process and workers.\n"
          ]
        },
        {
          "output_type": "stream",
          "name": "stderr",
          "text": [
            "/usr/local/lib/python3.8/dist-packages/torch/cuda/__init__.py:497: UserWarning: Can't initialize NVML\n",
            "  warnings.warn(\"Can't initialize NVML\")\n"
          ]
        }
      ],
      "source": [
        "import numpy as np\n",
        "import pandas as pd\n",
        "from pandarallel import pandarallel\n",
        "pandarallel.initialize(progress_bar=True, use_memory_fs=False, )\n",
        "import spacy\n",
        "#import en_core_web_md\n",
        "import matplotlib.pyplot as plt\n",
        "import seaborn as sns\n",
        "\n",
        "%matplotlib inline"
      ]
    },
    {
      "cell_type": "markdown",
      "metadata": {
        "id": "gffni-uMvKE5"
      },
      "source": [
        "## Read Data"
      ]
    },
    {
      "cell_type": "code",
      "execution_count": 8,
      "metadata": {
        "id": "VMQldU3-vKE5",
        "colab": {
          "base_uri": "https://localhost:8080/"
        },
        "outputId": "fb56ac76-8c48-4ef3-c976-fb21e30b6d30"
      },
      "outputs": [
        {
          "output_type": "stream",
          "name": "stdout",
          "text": [
            "<class 'pandas.core.frame.DataFrame'>\n",
            "Int64Index: 74011 entries, 0 to 74011\n",
            "Data columns (total 3 columns):\n",
            " #   Column  Non-Null Count  Dtype \n",
            "---  ------  --------------  ----- \n",
            " 0   title   74011 non-null  object\n",
            " 1   text    74011 non-null  object\n",
            " 2   label   74011 non-null  int64 \n",
            "dtypes: int64(1), object(2)\n",
            "memory usage: 2.3+ MB\n"
          ]
        }
      ],
      "source": [
        "data = pd.read_csv('/content/drive/MyDrive/FakeReviewClassification/data/combined_news_data_processed.csv')\n",
        "data.dropna(inplace=True)\n",
        "data.info()"
      ]
    },
    {
      "cell_type": "code",
      "source": [
        "data"
      ],
      "metadata": {
        "id": "nxSM6ShTwREZ",
        "colab": {
          "base_uri": "https://localhost:8080/",
          "height": 423
        },
        "outputId": "efe7676b-5e72-44ce-e407-f01e4e533a9b"
      },
      "execution_count": 9,
      "outputs": [
        {
          "output_type": "execute_result",
          "data": {
            "text/plain": [
              "                                                   title  \\\n",
              "0      As U.S. budget fight looms, Republicans flip t...   \n",
              "1      U.S. military to accept transgender recruits o...   \n",
              "2      Senior U.S. Republican senator: 'Let Mr. Muell...   \n",
              "3      FBI Russia probe helped by Australian diplomat...   \n",
              "4      Trump wants Postal Service to charge 'much mor...   \n",
              "...                                                  ...   \n",
              "74007  Study: Trump On Track to Be Most Mocked Presid...   \n",
              "74008  Trump Hiring Freeze Not Shutting Down Army Chi...   \n",
              "74009  ESPN’s Jeremy Schaap: No ’Evidence’ Kaepernick...   \n",
              "74010  Dem Rep Waters: Trump Making Foreign Policy De...   \n",
              "74011  Ratings for ABC Gay Rights Drama ’When We Rise...   \n",
              "\n",
              "                                                    text  label  \n",
              "0      washington reuters head conservative republica...      1  \n",
              "1      washington reuters transgender people allow ti...      1  \n",
              "2      washington reuters special counsel investigati...      1  \n",
              "3      washington reuters trump campaign adviser geor...      1  \n",
              "4      seattle washington reuters president donald tr...      1  \n",
              "...                                                  ...    ...  \n",
              "74007  new york ap stephen colbert crude reference do...      1  \n",
              "74008  president donald trump s civilian hire freeze ...      1  \n",
              "74009  thursday espn s jeremy schaap weigh quarterbac...      1  \n",
              "74010  saturday msnbc s joy rep maxine waters weigh p...      1  \n",
              "74011  abc s new gay right drama rise prove flop draw...      1  \n",
              "\n",
              "[74011 rows x 3 columns]"
            ],
            "text/html": [
              "\n",
              "  <div id=\"df-d9a8f5cb-5d94-4a09-ac1a-666efd285283\">\n",
              "    <div class=\"colab-df-container\">\n",
              "      <div>\n",
              "<style scoped>\n",
              "    .dataframe tbody tr th:only-of-type {\n",
              "        vertical-align: middle;\n",
              "    }\n",
              "\n",
              "    .dataframe tbody tr th {\n",
              "        vertical-align: top;\n",
              "    }\n",
              "\n",
              "    .dataframe thead th {\n",
              "        text-align: right;\n",
              "    }\n",
              "</style>\n",
              "<table border=\"1\" class=\"dataframe\">\n",
              "  <thead>\n",
              "    <tr style=\"text-align: right;\">\n",
              "      <th></th>\n",
              "      <th>title</th>\n",
              "      <th>text</th>\n",
              "      <th>label</th>\n",
              "    </tr>\n",
              "  </thead>\n",
              "  <tbody>\n",
              "    <tr>\n",
              "      <th>0</th>\n",
              "      <td>As U.S. budget fight looms, Republicans flip t...</td>\n",
              "      <td>washington reuters head conservative republica...</td>\n",
              "      <td>1</td>\n",
              "    </tr>\n",
              "    <tr>\n",
              "      <th>1</th>\n",
              "      <td>U.S. military to accept transgender recruits o...</td>\n",
              "      <td>washington reuters transgender people allow ti...</td>\n",
              "      <td>1</td>\n",
              "    </tr>\n",
              "    <tr>\n",
              "      <th>2</th>\n",
              "      <td>Senior U.S. Republican senator: 'Let Mr. Muell...</td>\n",
              "      <td>washington reuters special counsel investigati...</td>\n",
              "      <td>1</td>\n",
              "    </tr>\n",
              "    <tr>\n",
              "      <th>3</th>\n",
              "      <td>FBI Russia probe helped by Australian diplomat...</td>\n",
              "      <td>washington reuters trump campaign adviser geor...</td>\n",
              "      <td>1</td>\n",
              "    </tr>\n",
              "    <tr>\n",
              "      <th>4</th>\n",
              "      <td>Trump wants Postal Service to charge 'much mor...</td>\n",
              "      <td>seattle washington reuters president donald tr...</td>\n",
              "      <td>1</td>\n",
              "    </tr>\n",
              "    <tr>\n",
              "      <th>...</th>\n",
              "      <td>...</td>\n",
              "      <td>...</td>\n",
              "      <td>...</td>\n",
              "    </tr>\n",
              "    <tr>\n",
              "      <th>74007</th>\n",
              "      <td>Study: Trump On Track to Be Most Mocked Presid...</td>\n",
              "      <td>new york ap stephen colbert crude reference do...</td>\n",
              "      <td>1</td>\n",
              "    </tr>\n",
              "    <tr>\n",
              "      <th>74008</th>\n",
              "      <td>Trump Hiring Freeze Not Shutting Down Army Chi...</td>\n",
              "      <td>president donald trump s civilian hire freeze ...</td>\n",
              "      <td>1</td>\n",
              "    </tr>\n",
              "    <tr>\n",
              "      <th>74009</th>\n",
              "      <td>ESPN’s Jeremy Schaap: No ’Evidence’ Kaepernick...</td>\n",
              "      <td>thursday espn s jeremy schaap weigh quarterbac...</td>\n",
              "      <td>1</td>\n",
              "    </tr>\n",
              "    <tr>\n",
              "      <th>74010</th>\n",
              "      <td>Dem Rep Waters: Trump Making Foreign Policy De...</td>\n",
              "      <td>saturday msnbc s joy rep maxine waters weigh p...</td>\n",
              "      <td>1</td>\n",
              "    </tr>\n",
              "    <tr>\n",
              "      <th>74011</th>\n",
              "      <td>Ratings for ABC Gay Rights Drama ’When We Rise...</td>\n",
              "      <td>abc s new gay right drama rise prove flop draw...</td>\n",
              "      <td>1</td>\n",
              "    </tr>\n",
              "  </tbody>\n",
              "</table>\n",
              "<p>74011 rows × 3 columns</p>\n",
              "</div>\n",
              "      <button class=\"colab-df-convert\" onclick=\"convertToInteractive('df-d9a8f5cb-5d94-4a09-ac1a-666efd285283')\"\n",
              "              title=\"Convert this dataframe to an interactive table.\"\n",
              "              style=\"display:none;\">\n",
              "        \n",
              "  <svg xmlns=\"http://www.w3.org/2000/svg\" height=\"24px\"viewBox=\"0 0 24 24\"\n",
              "       width=\"24px\">\n",
              "    <path d=\"M0 0h24v24H0V0z\" fill=\"none\"/>\n",
              "    <path d=\"M18.56 5.44l.94 2.06.94-2.06 2.06-.94-2.06-.94-.94-2.06-.94 2.06-2.06.94zm-11 1L8.5 8.5l.94-2.06 2.06-.94-2.06-.94L8.5 2.5l-.94 2.06-2.06.94zm10 10l.94 2.06.94-2.06 2.06-.94-2.06-.94-.94-2.06-.94 2.06-2.06.94z\"/><path d=\"M17.41 7.96l-1.37-1.37c-.4-.4-.92-.59-1.43-.59-.52 0-1.04.2-1.43.59L10.3 9.45l-7.72 7.72c-.78.78-.78 2.05 0 2.83L4 21.41c.39.39.9.59 1.41.59.51 0 1.02-.2 1.41-.59l7.78-7.78 2.81-2.81c.8-.78.8-2.07 0-2.86zM5.41 20L4 18.59l7.72-7.72 1.47 1.35L5.41 20z\"/>\n",
              "  </svg>\n",
              "      </button>\n",
              "      \n",
              "  <style>\n",
              "    .colab-df-container {\n",
              "      display:flex;\n",
              "      flex-wrap:wrap;\n",
              "      gap: 12px;\n",
              "    }\n",
              "\n",
              "    .colab-df-convert {\n",
              "      background-color: #E8F0FE;\n",
              "      border: none;\n",
              "      border-radius: 50%;\n",
              "      cursor: pointer;\n",
              "      display: none;\n",
              "      fill: #1967D2;\n",
              "      height: 32px;\n",
              "      padding: 0 0 0 0;\n",
              "      width: 32px;\n",
              "    }\n",
              "\n",
              "    .colab-df-convert:hover {\n",
              "      background-color: #E2EBFA;\n",
              "      box-shadow: 0px 1px 2px rgba(60, 64, 67, 0.3), 0px 1px 3px 1px rgba(60, 64, 67, 0.15);\n",
              "      fill: #174EA6;\n",
              "    }\n",
              "\n",
              "    [theme=dark] .colab-df-convert {\n",
              "      background-color: #3B4455;\n",
              "      fill: #D2E3FC;\n",
              "    }\n",
              "\n",
              "    [theme=dark] .colab-df-convert:hover {\n",
              "      background-color: #434B5C;\n",
              "      box-shadow: 0px 1px 3px 1px rgba(0, 0, 0, 0.15);\n",
              "      filter: drop-shadow(0px 1px 2px rgba(0, 0, 0, 0.3));\n",
              "      fill: #FFFFFF;\n",
              "    }\n",
              "  </style>\n",
              "\n",
              "      <script>\n",
              "        const buttonEl =\n",
              "          document.querySelector('#df-d9a8f5cb-5d94-4a09-ac1a-666efd285283 button.colab-df-convert');\n",
              "        buttonEl.style.display =\n",
              "          google.colab.kernel.accessAllowed ? 'block' : 'none';\n",
              "\n",
              "        async function convertToInteractive(key) {\n",
              "          const element = document.querySelector('#df-d9a8f5cb-5d94-4a09-ac1a-666efd285283');\n",
              "          const dataTable =\n",
              "            await google.colab.kernel.invokeFunction('convertToInteractive',\n",
              "                                                     [key], {});\n",
              "          if (!dataTable) return;\n",
              "\n",
              "          const docLinkHtml = 'Like what you see? Visit the ' +\n",
              "            '<a target=\"_blank\" href=https://colab.research.google.com/notebooks/data_table.ipynb>data table notebook</a>'\n",
              "            + ' to learn more about interactive tables.';\n",
              "          element.innerHTML = '';\n",
              "          dataTable['output_type'] = 'display_data';\n",
              "          await google.colab.output.renderOutput(dataTable, element);\n",
              "          const docLink = document.createElement('div');\n",
              "          docLink.innerHTML = docLinkHtml;\n",
              "          element.appendChild(docLink);\n",
              "        }\n",
              "      </script>\n",
              "    </div>\n",
              "  </div>\n",
              "  "
            ]
          },
          "metadata": {},
          "execution_count": 9
        }
      ]
    },
    {
      "cell_type": "markdown",
      "metadata": {
        "id": "7iFEjwW_vKE6"
      },
      "source": [
        "## Exploratory Data Analysis"
      ]
    },
    {
      "cell_type": "code",
      "execution_count": 10,
      "metadata": {
        "id": "osybzKGLvKE6",
        "colab": {
          "base_uri": "https://localhost:8080/",
          "height": 589
        },
        "outputId": "aa229a27-e6e4-4c00-e75e-aa22c36aa6ec"
      },
      "outputs": [
        {
          "output_type": "stream",
          "name": "stderr",
          "text": [
            "/usr/local/lib/python3.8/dist-packages/seaborn/_decorators.py:36: FutureWarning: Pass the following variable as a keyword arg: x. From version 0.12, the only valid positional argument will be `data`, and passing other arguments without an explicit keyword will result in an error or misinterpretation.\n",
            "  warnings.warn(\n"
          ]
        },
        {
          "output_type": "execute_result",
          "data": {
            "text/plain": [
              "<matplotlib.axes._subplots.AxesSubplot at 0x7f9c522cbb80>"
            ]
          },
          "metadata": {},
          "execution_count": 10
        },
        {
          "output_type": "display_data",
          "data": {
            "text/plain": [
              "<Figure size 842.4x595.44 with 1 Axes>"
            ],
            "image/png": "[encoded data removed]"
          },
          "metadata": {}
        }
      ],
      "source": [
        "sns.set(rc={'figure.figsize':(11.7,8.27)})\n",
        "conversion_dict = {0: 'real', 1: 'fake'}\n",
        "sns.countplot(data['label'].apply(lambda x: conversion_dict[x]))"
      ]
    },
    {
      "cell_type": "code",
      "execution_count": 11,
      "metadata": {
        "id": "G4TTiAH7vKE7"
      },
      "outputs": [],
      "source": [
        "sns.set(rc={'figure.figsize':(11.7,8.27)})\n",
        "data['length'] = data['text'].apply(lambda x: len(x.split(' ')))"
      ]
    },
    {
      "cell_type": "code",
      "execution_count": 12,
      "metadata": {
        "id": "RL7wMsFavKE7",
        "colab": {
          "base_uri": "https://localhost:8080/",
          "height": 641
        },
        "outputId": "abd3f4c9-ee92-4a3d-ac32-f70102674063"
      },
      "outputs": [
        {
          "output_type": "stream",
          "name": "stderr",
          "text": [
            "/usr/local/lib/python3.8/dist-packages/seaborn/distributions.py:2619: FutureWarning: `distplot` is a deprecated function and will be removed in a future version. Please adapt your code to use either `displot` (a figure-level function with similar flexibility) or `histplot` (an axes-level function for histograms).\n",
            "  warnings.warn(msg, FutureWarning)\n",
            "/usr/local/lib/python3.8/dist-packages/scipy/stats/stats.py:2857: DeprecationWarning: the `interpolation=` argument to percentile was renamed to `method=`, which has additional options.\n",
            "Users of the modes 'nearest', 'lower', 'higher', or 'midpoint' are encouraged to review the method they. (Deprecated NumPy 1.22)\n",
            "  pct = percentile_func(x, rng, axis=axis, interpolation=interpolation,\n"
          ]
        },
        {
          "output_type": "execute_result",
          "data": {
            "text/plain": [
              "<matplotlib.axes._subplots.AxesSubplot at 0x7f9c521f23d0>"
            ]
          },
          "metadata": {},
          "execution_count": 12
        },
        {
          "output_type": "display_data",
          "data": {
            "text/plain": [
              "<Figure size 842.4x595.44 with 1 Axes>"
            ],
            "image/png": "[encoded data removed]"
          },
          "metadata": {}
        }
      ],
      "source": [
        "sns.distplot(data['length'])"
      ]
    },
    {
      "cell_type": "code",
      "execution_count": 13,
      "metadata": {
        "id": "REZ1sZ_zvKE8",
        "colab": {
          "base_uri": "https://localhost:8080/"
        },
        "outputId": "fe4e3d9e-e64e-401c-b086-012cc0acb137"
      },
      "outputs": [
        {
          "output_type": "execute_result",
          "data": {
            "text/plain": [
              "count    74011.000000\n",
              "mean       296.429044\n",
              "std        332.451560\n",
              "min          1.000000\n",
              "25%        130.000000\n",
              "50%        222.000000\n",
              "75%        367.000000\n",
              "max      21011.000000\n",
              "Name: length, dtype: float64"
            ]
          },
          "metadata": {},
          "execution_count": 13
        }
      ],
      "source": [
        "data['length'].describe()"
      ]
    },
    {
      "cell_type": "markdown",
      "metadata": {
        "id": "YDrLvDlKvKE9"
      },
      "source": [
        "## Preprocessing the Text Data"
      ]
    },
    {
      "cell_type": "code",
      "execution_count": 14,
      "metadata": {
        "id": "VO6TTGIEvKE9",
        "colab": {
          "base_uri": "https://localhost:8080/"
        },
        "outputId": "e6e5a464-fb4d-4883-a2ab-457dbe0baa08"
      },
      "outputs": [
        {
          "output_type": "stream",
          "name": "stderr",
          "text": [
            "<>:8: DeprecationWarning: invalid escape sequence \\)\n",
            "<>:9: DeprecationWarning: invalid escape sequence \\W\n",
            "<>:8: DeprecationWarning: invalid escape sequence \\)\n",
            "<>:9: DeprecationWarning: invalid escape sequence \\W\n",
            "<ipython-input-14-b8bdd8ba97a6>:8: DeprecationWarning: invalid escape sequence \\)\n",
            "  emoticons = re.findall('(?::|;|=)(?:-)?(?:\\)|\\(|D|P)', text)\n",
            "<ipython-input-14-b8bdd8ba97a6>:9: DeprecationWarning: invalid escape sequence \\W\n",
            "  text = re.sub('[\\W]+', ' ', text.lower()) + ' '.join(emoticons).replace('-', '')\n"
          ]
        }
      ],
      "source": [
        "import re # regex library\n",
        "from spacy.lang.en.stop_words import STOP_WORDS\n",
        "\n",
        "nlp = spacy.load(\"en_core_web_sm\")\n",
        "\n",
        "def preprocessor(text):\n",
        "    text = re.sub('<[^>]*>', '', text) # Effectively removes HTML markup tags\n",
        "    emoticons = re.findall('(?::|;|=)(?:-)?(?:\\)|\\(|D|P)', text)\n",
        "    text = re.sub('[\\W]+', ' ', text.lower()) + ' '.join(emoticons).replace('-', '')\n",
        "    doc = nlp(text)\n",
        "    text = ' '.join([token.lemma_ for token in doc if token.text not in STOP_WORDS])\n",
        "    return text\n",
        "    \n",
        "    "
      ]
    },
    {
      "cell_type": "code",
      "execution_count": 15,
      "metadata": {
        "id": "FU132KO7vKE_",
        "colab": {
          "base_uri": "https://localhost:8080/",
          "height": 49,
          "referenced_widgets": [
            "741e928fcc544e69afc7e1412fdbd566",
            "664e9eb656894f5ca593586799c6091f",
            "3b2e5de2b555480cbee82c7cdf051ae3",
            "379e46ae3db941fdaf869847f27b8adc",
            "32f7ab7be66745359d0537325794f41a",
            "2908639778884731abe7b25403c37cce",
            "b2ce16545b8f4c289899c8c2c6b8fa5f",
            "d3e694a7d15d4fa185d03590e7db2237",
            "eb12b3e3f63d4bd3b26054f532617416",
            "54d44a6b663841999eadd5451bf08ce4"
          ]
        },
        "outputId": "09daa215-0219-4ae7-809d-9763bd58eda6"
      },
      "outputs": [
        {
          "data": {
            "application/vnd.jupyter.widget-view+json": {
              "model_id": "741e928fcc544e69afc7e1412fdbd566",
              "version_major": 2,
              "version_minor": 0
            },
            "text/plain": [
              "VBox(children=(HBox(children=(IntProgress(value=0, description='0.00%', max=74011), Label(value='0 / 74011')))…"
            ]
          },
          "metadata": {},
          "output_type": "display_data"
        }
      ],
      "source": [
        "\n",
        "\n",
        "\n",
        "X = data['text'].parallel_apply(preprocessor)\n",
        "y = data['label']"
      ]
    },
    {
      "cell_type": "code",
      "execution_count": 16,
      "metadata": {
        "id": "Wsb8grZavKFA"
      },
      "outputs": [],
      "source": [
        "from sklearn.model_selection import train_test_split\n",
        "X_train, X_test, y_train, y_test = train_test_split(X, y, test_size=0.3, random_state=42)\n",
        "X_train, X_valid, y_train, y_valid = train_test_split(X_train, y_train, test_size=0.2, random_state=42)\n",
        "\n",
        "data_processed = pd.DataFrame({'title': data['title'], 'text': X, 'label': y})\n",
        "data_processed.to_csv('/content/drive/MyDrive/FakeReviewClassification/data/processed.csv', index=False)"
      ]
    },
    {
      "cell_type": "code",
      "source": [
        "pip install pyLDAvis"
      ],
      "metadata": {
        "id": "oj80W4m2GgxS",
        "colab": {
          "base_uri": "https://localhost:8080/"
        },
        "outputId": "3abe104c-375b-4170-dea5-55bc8bc3a540"
      },
      "execution_count": 27,
      "outputs": [
        {
          "output_type": "stream",
          "name": "stdout",
          "text": [
            "Looking in indexes: https://pypi.org/simple, https://us-python.pkg.dev/colab-wheels/public/simple/\n",
            "Requirement already satisfied: pyLDAvis in /usr/local/lib/python3.8/dist-packages (3.4.0)\n",
            "Requirement already satisfied: joblib>=1.2.0 in /usr/local/lib/python3.8/dist-packages (from pyLDAvis) (1.2.0)\n",
            "Requirement already satisfied: gensim in /usr/local/lib/python3.8/dist-packages (from pyLDAvis) (3.6.0)\n",
            "Requirement already satisfied: pandas>=1.3.4 in /usr/local/lib/python3.8/dist-packages (from pyLDAvis) (1.3.5)\n",
            "Requirement already satisfied: numpy>=1.22.0 in /usr/local/lib/python3.8/dist-packages (from pyLDAvis) (1.22.4)\n",
            "Requirement already satisfied: scikit-learn>=1.0.0 in /usr/local/lib/python3.8/dist-packages (from pyLDAvis) (1.0.2)\n",
            "Requirement already satisfied: jinja2 in /usr/local/lib/python3.8/dist-packages (from pyLDAvis) (2.11.3)\n",
            "Requirement already satisfied: funcy in /usr/local/lib/python3.8/dist-packages (from pyLDAvis) (1.18)\n",
            "Requirement already satisfied: numexpr in /usr/local/lib/python3.8/dist-packages (from pyLDAvis) (2.8.4)\n",
            "Requirement already satisfied: setuptools in /usr/local/lib/python3.8/dist-packages (from pyLDAvis) (57.4.0)\n",
            "Requirement already satisfied: scipy in /usr/local/lib/python3.8/dist-packages (from pyLDAvis) (1.7.3)\n",
            "Requirement already satisfied: pytz>=2017.3 in /usr/local/lib/python3.8/dist-packages (from pandas>=1.3.4->pyLDAvis) (2022.7.1)\n",
            "Requirement already satisfied: python-dateutil>=2.7.3 in /usr/local/lib/python3.8/dist-packages (from pandas>=1.3.4->pyLDAvis) (2.8.2)\n",
            "Requirement already satisfied: threadpoolctl>=2.0.0 in /usr/local/lib/python3.8/dist-packages (from scikit-learn>=1.0.0->pyLDAvis) (3.1.0)\n",
            "Requirement already satisfied: smart-open>=1.2.1 in /usr/local/lib/python3.8/dist-packages (from gensim->pyLDAvis) (6.3.0)\n",
            "Requirement already satisfied: six>=1.5.0 in /usr/local/lib/python3.8/dist-packages (from gensim->pyLDAvis) (1.15.0)\n",
            "Requirement already satisfied: MarkupSafe>=0.23 in /usr/local/lib/python3.8/dist-packages (from jinja2->pyLDAvis) (2.0.1)\n"
          ]
        }
      ]
    },
    {
      "cell_type": "markdown",
      "metadata": {
        "id": "KebKadK1vKFA"
      },
      "source": [
        "## Topic Modeling with Latent Dirichlet Allocation"
      ]
    },
    {
      "cell_type": "code",
      "execution_count": 28,
      "metadata": {
        "id": "qgOgtQ2YvKFA"
      },
      "outputs": [],
      "source": [
        "from sklearn.decomposition import NMF, LatentDirichletAllocation, TruncatedSVD\n",
        "from sklearn.feature_extraction.text import CountVectorizer\n",
        "from sklearn.manifold import TSNE\n",
        "from sklearn.pipeline import Pipeline\n",
        "import pyLDAvis.sklearn\n",
        "\n",
        "def display_topics(model, feature_names, no_top_words):\n",
        "    for topic_idx, topic in enumerate(model.components_):\n",
        "        print(\"Topic %d:\" % (topic_idx))\n",
        "        print(\" \".join([feature_names[i]\n",
        "                        for i in topic.argsort()[:-no_top_words - 1:-1]]))\n",
        "\n",
        "def display_topics_pipeline(pipeline_lda, no_top_words):\n",
        "    vectorizer = pipeline_lda.steps[0][1]\n",
        "    lda = pipeline_lda.steps[1][1]\n",
        "    tf_feature_names = vectorizer.get_feature_names()\n",
        "    display_topics(lda, tf_feature_names, no_top_words)"
      ]
    },
    {
      "cell_type": "markdown",
      "metadata": {
        "id": "xUgXwJWlvKFB"
      },
      "source": [
        "### Real News"
      ]
    },
    {
      "cell_type": "code",
      "execution_count": 19,
      "metadata": {
        "id": "0XP1dcubvKFB",
        "colab": {
          "base_uri": "https://localhost:8080/"
        },
        "outputId": "2ed420fa-f4d5-4197-ee9f-0ef3a11fd1a2"
      },
      "outputs": [
        {
          "output_type": "execute_result",
          "data": {
            "text/plain": [
              "Pipeline(steps=[('vectorizer',\n",
              "                 CountVectorizer(max_df=0.95, max_features=5000, min_df=2,\n",
              "                                 stop_words='english')),\n",
              "                ('lda',\n",
              "                 LatentDirichletAllocation(learning_method='online',\n",
              "                                           learning_offset=50.0, max_iter=5,\n",
              "                                           random_state=0))])"
            ]
          },
          "metadata": {},
          "execution_count": 19
        }
      ],
      "source": [
        "real_news = data_processed[data_processed['label'] == 1]\n",
        "\n",
        "num_topics = 10\n",
        "num_features=5000\n",
        "\n",
        "vectorizer = CountVectorizer(max_df=0.95, min_df=2, max_features=num_features, stop_words='english')\n",
        "lda = LatentDirichletAllocation(n_components=num_topics,\n",
        "                                max_iter=5, \n",
        "                                learning_method='online', \n",
        "                                learning_offset=50.,\n",
        "                                random_state=0)\n",
        "\n",
        "lda_pipeline = Pipeline([('vectorizer', vectorizer), ('lda', lda)])\n",
        "lda_pipeline.fit(real_news['text'])"
      ]
    },
    {
      "cell_type": "code",
      "execution_count": null,
      "metadata": {
        "id": "fXr13F0ZvKFB"
      },
      "outputs": [],
      "source": [
        "pyLDAvis.enable_notebook()\n",
        "data_vectorized = vectorizer.fit_transform(data_processed['text'])\n",
        "dash = pyLDAvis.sklearn.prepare(lda_pipeline.steps[1][1], data_vectorized, vectorizer, mds='tsne')"
      ]
    },
    {
      "cell_type": "code",
      "execution_count": null,
      "metadata": {
        "id": "8iVIgKGJvKFC"
      },
      "outputs": [],
      "source": [
        "pyLDAvis.save_html(dash, 'real_news_lda.html')"
      ]
    },
    {
      "cell_type": "markdown",
      "metadata": {
        "id": "TYvbajn_vKFC"
      },
      "source": [
        "### Fake News"
      ]
    },
    {
      "cell_type": "code",
      "execution_count": 22,
      "metadata": {
        "id": "wMu1dGchvKFC",
        "colab": {
          "base_uri": "https://localhost:8080/"
        },
        "outputId": "b40288fc-5c48-47fd-e33a-212b23237149"
      },
      "outputs": [
        {
          "output_type": "stream",
          "name": "stderr",
          "text": [
            "/usr/local/lib/python3.8/dist-packages/sklearn/utils/deprecation.py:87: FutureWarning: Function get_feature_names is deprecated; get_feature_names is deprecated in 1.0 and will be removed in 1.2. Please use get_feature_names_out instead.\n",
            "  warnings.warn(msg, category=FutureWarning)\n",
            "/usr/local/lib/python3.8/dist-packages/pyLDAvis/_prepare.py:243: FutureWarning: In a future version of pandas all arguments of DataFrame.drop except for the argument 'labels' will be keyword-only\n",
            "  default_term_info = default_term_info.sort_values(\n",
            "/usr/local/lib/python3.8/dist-packages/sklearn/manifold/_t_sne.py:790: FutureWarning: The default learning rate in TSNE will change from 200.0 to 'auto' in 1.2.\n",
            "  warnings.warn(\n",
            "/usr/local/lib/python3.8/dist-packages/sklearn/manifold/_t_sne.py:819: FutureWarning: 'square_distances' has been introduced in 0.24 to help phase out legacy squaring behavior. The 'legacy' setting will be removed in 1.1 (renaming of 0.26), and the default setting will be changed to True. In 1.3, 'square_distances' will be removed altogether, and distances will be squared by default. Set 'square_distances'=True to silence this warning.\n",
            "  warnings.warn(\n"
          ]
        }
      ],
      "source": [
        "fake_news = data_processed[data_processed['label'] == 0]\n",
        "\n",
        "num_topics = 10\n",
        "num_features=5000\n",
        "\n",
        "vectorizer = CountVectorizer(max_df=0.95, min_df=2, max_features=num_features, stop_words='english')\n",
        "lda = LatentDirichletAllocation(n_components=num_topics,\n",
        "                                max_iter=5, \n",
        "                                learning_method='online', \n",
        "                                learning_offset=50.,\n",
        "                                random_state=0)\n",
        "\n",
        "lda_pipeline = Pipeline([('vectorizer', vectorizer), ('lda', lda)])\n",
        "lda_pipeline.fit(fake_news['text'])\n",
        "\n",
        "pyLDAvis.enable_notebook()\n",
        "data_vectorized = vectorizer.fit_transform(data_processed['text'])\n",
        "dash = pyLDAvis.sklearn.prepare(lda_pipeline.steps[1][1], data_vectorized, vectorizer, mds='tsne')"
      ]
    },
    {
      "cell_type": "code",
      "execution_count": 23,
      "metadata": {
        "id": "3zzvtpoZvKFD"
      },
      "outputs": [],
      "source": [
        "pyLDAvis.save_html(dash, 'fake_news_lda.html')"
      ]
    },
    {
      "cell_type": "markdown",
      "metadata": {
        "id": "Zy0jeixZvKFD"
      },
      "source": [
        "## Defining and Training the Model"
      ]
    },
    {
      "cell_type": "code",
      "execution_count": 52,
      "metadata": {
        "id": "VtbcNfbLvKFE"
      },
      "outputs": [],
      "source": [
        "import keras\n",
        "from sklearn.base import BaseEstimator, ClassifierMixin\n",
        "from sklearn.metrics import accuracy_score\n",
        "from keras.preprocessing.text import hashing_trick\n",
        "from keras.preprocessing.text import text_to_word_sequence\n",
        "from keras.models import Sequential, load_model\n",
        "from keras.layers import Embedding, LSTM, Dense, Conv1D, MaxPooling1D, Dropout\n",
        "from keras.preprocessing.text import Tokenizer\n",
        "from keras.callbacks import EarlyStopping, ModelCheckpoint\n",
        "\n",
        "class LSTM_Text_Classifier(BaseEstimator, ClassifierMixin):\n",
        "    \n",
        "    def __init__(self, embedding_vector_length, max_seq_length, lstm_layers, batch_size=32, num_epochs=3, use_hash=False,\n",
        "                dropout=None, conv_params=None):\n",
        "        \n",
        "        self.embedding_vector_length = embedding_vector_length\n",
        "        self.max_seq_length = max_seq_length\n",
        "        self.lstm_layer_sizes = lstm_layers\n",
        "        self.num_epochs = num_epochs\n",
        "        self.batch_size = batch_size\n",
        "        self.use_hashing_trick = use_hash\n",
        "        if not self.use_hashing_trick:\n",
        "            self.tokenizer = Tokenizer()\n",
        "        self.dropout = dropout\n",
        "        self.conv_params = conv_params\n",
        "        \n",
        "    \n",
        "    def _get_word_index(self, word):\n",
        "        \n",
        "        try:\n",
        "            return self.tokenizer.word_index[word]\n",
        "        except:\n",
        "            return None\n",
        "        \n",
        "    def _text_to_int_sequence(self, text):\n",
        "        seq = [self._get_word_index(word) for word in text_to_word_sequence(text)]\n",
        "        return [index for index in seq if index]\n",
        "        \n",
        "    def fit(self, X, y, validation_data):\n",
        "        \n",
        "        all_X = pd.concat([X, validation_data[0]])\n",
        "        if self.use_hashing_trick:\n",
        "            all_words = set()\n",
        "            for text in all_X:\n",
        "                new_words = set(text_to_word_sequence(text))\n",
        "                all_words = all_words.union(new_words)\n",
        "            self.max_vocab = len(all_words)*1.3\n",
        "            \n",
        "            for i in range(len(X)):\n",
        "                X[i] = hashing_trick(X[i], max_vocab, hash_function='md5')\n",
        "            X_pad =keras.utils.data_utils.pad_sequences(X, maxlen=self.max_seq_length)\n",
        "            \n",
        "            X_valid = validation_data[0]\n",
        "            \n",
        "            for i in range(len(X_valid)):\n",
        "                X_valid[i] = hashing_trick(X_valid[i], max_vocab, hash_function='md5')\n",
        "            X_valid_pad =keras.utils.data_utils.pad_sequences(X_valid, maxlen=self.max_seq_length)\n",
        "        \n",
        "            y_valid = validation_data[1]\n",
        "            \n",
        "        else:    \n",
        "            print('Fitting Tokenizer...')\n",
        "            self.tokenizer.fit_on_texts(all_X)\n",
        "            self.max_vocab = len(self.tokenizer.word_index) + 20\n",
        "            X = X.apply(self._text_to_int_sequence)\n",
        "            X_pad =keras.utils.data_utils.pad_sequences(X, maxlen=self.max_seq_length)\n",
        "        \n",
        "            X_valid = validation_data[0].apply(self._text_to_int_sequence)\n",
        "            X_valid_pad =keras.utils.data_utils.pad_sequences(X_valid, maxlen=self.max_seq_length)\n",
        "        \n",
        "            y_valid = validation_data[1]\n",
        "        \n",
        "        self.model = Sequential()\n",
        "        self.model.add(Embedding(self.max_vocab, self.embedding_vector_length, input_length=self.max_seq_length))\n",
        "            \n",
        "        if self.conv_params is not None:\n",
        "            use_pooling = False\n",
        "            if self.conv_params['pool_size'] is not None:\n",
        "                use_pooling = True\n",
        "            \n",
        "            for i in range(self.conv_params['n_layers']):\n",
        "                self.model.add(Conv1D(filters=2*(i+1)*self.conv_params['filters'], \n",
        "                                      kernel_size=self.conv_params['kernel_size'], \n",
        "                                      padding='same', activation='relu'))\n",
        "                if use_pooling:\n",
        "                    self.model.add(MaxPooling1D(pool_size=self.conv_params['pool_size']))\n",
        "\n",
        "            \n",
        "        if len(self.lstm_layer_sizes) > 1:\n",
        "            for lstm_layer_size in self.lstm_layer_sizes[:-1]:\n",
        "                self.model.add(LSTM(lstm_layer_size, return_sequences=True))\n",
        "                self.model.add(Dropout(self.dropout))\n",
        "            self.model.add(LSTM(self.lstm_layer_sizes[-1]))\n",
        "        else:\n",
        "            self.model.add(LSTM(self.lstm_layer_sizes[0]))\n",
        "        if self.dropout is not None:\n",
        "            self.model.add(Dropout(self.dropout))\n",
        "        self.model.add(Dense(1, activation='sigmoid'))\n",
        "        self.model.compile(loss='binary_crossentropy', optimizer='adam', metrics=['accuracy'])\n",
        "        early_stopping = EarlyStopping(monitor='val_accuracy',\n",
        "                              min_delta=0,\n",
        "                              patience=1,\n",
        "                              verbose=2, mode='max')\n",
        "        \n",
        "        checkpoint = ModelCheckpoint(filepath='best_model',\n",
        "                                     monitor='val_accuracy',\n",
        "                                     mode='max',\n",
        "                                     save_best_only=True)\n",
        "        \n",
        "        callbacks_list = [early_stopping, checkpoint]\n",
        "        print(self.model.summary())\n",
        "        \n",
        "        print('Fitting model...')\n",
        "        self.model.fit(X_pad, y, validation_data=(X_valid_pad, y_valid), \n",
        "                  epochs=self.num_epochs, batch_size=self.batch_size, callbacks=callbacks_list)\n",
        "        \n",
        "        \n",
        "    def predict(self, X):\n",
        "        \n",
        "        if type(X) == pd.core.frame.DataFrame or type(X) == pd.core.series.Series:\n",
        "            X = X.apply(self._text_to_int_sequence)\n",
        "            X = keras.utils.data_utils.pad_sequences(X, maxlen = self.max_seq_length)\n",
        "            return self.model.predict(X)\n",
        "        elif type(X) == str:\n",
        "            X = self._text_to_int_sequence(X)\n",
        "            X = keras.utils.data_utils.pad_sequences(X, maxlen = self.max_seq_length)\n",
        "            return self.model.predict(X)\n",
        "        else:\n",
        "            X = map(X, self._text_to_int_sequence)\n",
        "            X = keras.utils.data_utils.pad_sequences(X, maxlen = self.max_seq_length)\n",
        "            return self.model.predict(X)\n",
        "        \n",
        "    def predict_classes(self, X):\n",
        "        \n",
        "        if type(X) == pd.core.frame.DataFrame or type(X) == pd.core.series.Series:\n",
        "            X = X.apply(self._text_to_int_sequence)\n",
        "            X = keras.utils.data_utils.pad_sequences(X, maxlen = self.max_seq_length)\n",
        "            return self.model.predict_classes(X)\n",
        "        elif type(X) == str:\n",
        "            X = self._text_to_int_sequence(X)\n",
        "            X = keras.utils.data_utils.pad_sequences(X, maxlen = self.max_seq_length)\n",
        "            return self.model.predict_classes(np.array(X))\n",
        "        else:\n",
        "            X = map(X, self._text_to_int_sequence)\n",
        "            X = keras.utils.data_utils.pad_sequences(X, maxlen = self.max_seq_length)\n",
        "            return self.model.predict_classes(np.array(X))\n",
        "    \n",
        "    def predict_proba(self, X):\n",
        "        \n",
        "        if type(X) == pd.core.series.Series:\n",
        "            X = X.apply(self._text_to_int_sequence)\n",
        "            X =keras.utils.data_utils.pad_sequences(X, maxlen = self.max_seq_length)\n",
        "            return self.model.predict_proba(X)\n",
        "        elif type(X) == str:\n",
        "            X = self._text_to_int_sequence(X)\n",
        "            X = keras.utils.data_utils.pad_sequences(X, maxlen = self.max_seq_length)\n",
        "            return self.model.predict_proba(np.array(X))\n",
        "        else:\n",
        "            X = map(X, self._text_to_word_sequence)\n",
        "            X = keras.utils.data_utils.pad_sequences(X, maxlen = self.max_seq_length)\n",
        "            return self.model.predict_proba(np.array(X))\n",
        "    \n",
        "    def load_model(self, file_path):\n",
        "        \n",
        "        self.model = load_model(file_path)\n",
        "    \n",
        "    def score(self, X, y):\n",
        "        \n",
        "        pred = self.predict(X)\n",
        "        return accuracy_score(y, pred)\n",
        "  "
      ]
    },
    {
      "cell_type": "markdown",
      "metadata": {
        "id": "I0R8pc4VvKFF"
      },
      "source": [
        "### Model Training"
      ]
    },
    {
      "cell_type": "code",
      "execution_count": 54,
      "metadata": {
        "id": "lS2oLLDsvKFF"
      },
      "outputs": [],
      "source": [
        "lstm_classifier = LSTM_Text_Classifier(embedding_vector_length=64, max_seq_length=512, dropout=0.1, \n",
        "                                            lstm_layers=[128, 128], batch_size=256, num_epochs=1, use_hash=False,\n",
        "                                           conv_params={'filters': 128, \n",
        "                                                        'kernel_size': 5, \n",
        "                                                        'pool_size': 2,\n",
        "                                                        'n_layers': 3})"
      ]
    },
    {
      "cell_type": "code",
      "execution_count": 55,
      "metadata": {
        "id": "6Q0APc-3vKFF",
        "colab": {
          "base_uri": "https://localhost:8080/"
        },
        "outputId": "8f691084-6b66-4631-8744-c5372b7328ae"
      },
      "outputs": [
        {
          "output_type": "stream",
          "name": "stdout",
          "text": [
            "Fitting Tokenizer...\n",
            "Model: \"sequential_1\"\n",
            "_________________________________________________________________\n",
            " Layer (type)                Output Shape              Param #   \n",
            "=================================================================\n",
            " embedding_1 (Embedding)     (None, 512, 64)           12841920  \n",
            "                                                                 \n",
            " conv1d_3 (Conv1D)           (None, 512, 256)          82176     \n",
            "                                                                 \n",
            " max_pooling1d_3 (MaxPooling  (None, 256, 256)         0         \n",
            " 1D)                                                             \n",
            "                                                                 \n",
            " conv1d_4 (Conv1D)           (None, 256, 512)          655872    \n",
            "                                                                 \n",
            " max_pooling1d_4 (MaxPooling  (None, 128, 512)         0         \n",
            " 1D)                                                             \n",
            "                                                                 \n",
            " conv1d_5 (Conv1D)           (None, 128, 768)          1966848   \n",
            "                                                                 \n",
            " max_pooling1d_5 (MaxPooling  (None, 64, 768)          0         \n",
            " 1D)                                                             \n",
            "                                                                 \n",
            " lstm_2 (LSTM)               (None, 64, 128)           459264    \n",
            "                                                                 \n",
            " dropout_2 (Dropout)         (None, 64, 128)           0         \n",
            "                                                                 \n",
            " lstm_3 (LSTM)               (None, 128)               131584    \n",
            "                                                                 \n",
            " dropout_3 (Dropout)         (None, 128)               0         \n",
            "                                                                 \n",
            " dense_1 (Dense)             (None, 1)                 129       \n",
            "                                                                 \n",
            "=================================================================\n",
            "Total params: 16,137,793\n",
            "Trainable params: 16,137,793\n",
            "Non-trainable params: 0\n",
            "_________________________________________________________________\n",
            "None\n",
            "Fitting model...\n",
            "162/162 [==============================] - ETA: 0s - loss: 0.2904 - accuracy: 0.8566 "
          ]
        },
        {
          "output_type": "stream",
          "name": "stderr",
          "text": [
            "WARNING:absl:Found untraced functions such as _jit_compiled_convolution_op, _jit_compiled_convolution_op, _jit_compiled_convolution_op, _update_step_xla, lstm_cell_2_layer_call_fn while saving (showing 5 of 8). These functions will not be directly callable after loading.\n"
          ]
        },
        {
          "output_type": "stream",
          "name": "stdout",
          "text": [
            "\b\b\b\b\b\b\b\b\b\b\b\b\b\b\b\b\b\b\b\b\b\b\b\b\b\b\b\b\b\b\b\b\b\b\b\b\b\b\b\b\b\b\b\b\b\b\b\b\b\b\b\b\b\b\b\b\b\b\b\b\b\b\b\b\b\b\b\b\b\b\b\b\b\b\b\b\b\b\b\b\b\b\b\b\r162/162 [==============================] - 3600s 22s/step - loss: 0.2904 - accuracy: 0.8566 - val_loss: 0.1286 - val_accuracy: 0.9560\n"
          ]
        }
      ],
      "source": [
        "lstm_classifier.fit(X_train, y_train, validation_data=(X_valid, y_valid))"
      ]
    },
    {
      "cell_type": "markdown",
      "metadata": {
        "id": "ss4hYxa_vKFF"
      },
      "source": [
        "## Validation Results"
      ]
    },
    {
      "cell_type": "code",
      "execution_count": 57,
      "metadata": {
        "id": "oSAn-ZKzvKFG"
      },
      "outputs": [],
      "source": [
        "lstm_classifier.load_model('best_model')"
      ]
    },
    {
      "cell_type": "code",
      "execution_count": 58,
      "metadata": {
        "id": "HtPQEvUUvKFG",
        "colab": {
          "base_uri": "https://localhost:8080/"
        },
        "outputId": "375d3675-de61-422b-87ff-e8c6e5f4b195"
      },
      "outputs": [
        {
          "output_type": "execute_result",
          "data": {
            "image/png": "[encoded data removed]",
            "text/plain": [
              "<IPython.core.display.Image object>"
            ]
          },
          "metadata": {},
          "execution_count": 58
        }
      ],
      "source": [
        "from keras.utils.vis_utils import plot_model\n",
        "plot_model(\n",
        "    lstm_classifier.model,\n",
        "    to_file=\"recurrent_conv_net.png\",\n",
        "    show_shapes=True,\n",
        "    show_layer_names=True)"
      ]
    },
    {
      "cell_type": "code",
      "execution_count": 59,
      "metadata": {
        "id": "8hg2bznWvKFG",
        "colab": {
          "base_uri": "https://localhost:8080/"
        },
        "outputId": "cb83d25c-bfe9-4ff7-af86-86201021b1fd"
      },
      "outputs": [
        {
          "output_type": "stream",
          "name": "stdout",
          "text": [
            "324/324 [==============================] - 232s 712ms/step\n",
            "[[4963  158]\n",
            " [ 298 4943]]\n",
            "              precision    recall  f1-score   support\n",
            "\n",
            "           0       0.94      0.97      0.96      5121\n",
            "           1       0.97      0.94      0.96      5241\n",
            "\n",
            "    accuracy                           0.96     10362\n",
            "   macro avg       0.96      0.96      0.96     10362\n",
            "weighted avg       0.96      0.96      0.96     10362\n",
            "\n"
          ]
        }
      ],
      "source": [
        "from sklearn.metrics import confusion_matrix, classification_report\n",
        "\n",
        "y_pred = lstm_classifier.predict(X_valid)\n",
        "#print(y_pred)\n",
        "print(confusion_matrix(y_valid, y_pred > 0.5))\n",
        "print(classification_report(y_valid, y_pred > 0.5))"
      ]
    },
    {
      "cell_type": "markdown",
      "metadata": {
        "id": "8lODaQ8gvKFH"
      },
      "source": [
        "## Testing Results"
      ]
    },
    {
      "cell_type": "code",
      "execution_count": 60,
      "metadata": {
        "id": "mE37FTlvvKFH",
        "colab": {
          "base_uri": "https://localhost:8080/"
        },
        "outputId": "cdfaa824-637e-44dd-8246-9d146eeed1e2"
      },
      "outputs": [
        {
          "output_type": "stream",
          "name": "stdout",
          "text": [
            "694/694 [==============================] - 483s 697ms/step\n",
            "              precision    recall  f1-score   support\n",
            "\n",
            "           0       0.95      0.96      0.95     11143\n",
            "           1       0.96      0.94      0.95     11061\n",
            "\n",
            "    accuracy                           0.95     22204\n",
            "   macro avg       0.95      0.95      0.95     22204\n",
            "weighted avg       0.95      0.95      0.95     22204\n",
            "\n"
          ]
        }
      ],
      "source": [
        "from sklearn.metrics import accuracy_score\n",
        "\n",
        "y_pred_test = lstm_classifier.predict(X_test)\n",
        "print(classification_report(y_test, y_pred_test > 0.5))"
      ]
    }
  ],
  "metadata": {
    "instance_type": "ml.g4dn.xlarge",
    "kernelspec": {
      "display_name": "Python 3",
      "language": "python",
      "name": "python3"
    },
    "language_info": {
      "codemirror_mode": {
        "name": "ipython",
        "version": 3
      },
      "file_extension": ".py",
      "mimetype": "text/x-python",
      "name": "python",
      "nbconvert_exporter": "python",
      "pygments_lexer": "ipython3",
      "version": "3.7.6"
    },
    "colab": {
      "provenance": [],
      "include_colab_link": true
    },
    "widgets": {
      "application/vnd.jupyter.widget-state+json": {
        "741e928fcc544e69afc7e1412fdbd566": {
          "model_module": "@jupyter-widgets/controls",
          "model_name": "VBoxModel",
          "model_module_version": "1.5.0",
          "state": {
            "_dom_classes": [],
            "_model_module": "@jupyter-widgets/controls",
            "_model_module_version": "1.5.0",
            "_model_name": "VBoxModel",
            "_view_count": null,
            "_view_module": "@jupyter-widgets/controls",
            "_view_module_version": "1.5.0",
            "_view_name": "VBoxView",
            "box_style": "",
            "children": [
              "IPY_MODEL_664e9eb656894f5ca593586799c6091f"
            ],
            "layout": "IPY_MODEL_3b2e5de2b555480cbee82c7cdf051ae3"
          }
        },
        "664e9eb656894f5ca593586799c6091f": {
          "model_module": "@jupyter-widgets/controls",
          "model_name": "HBoxModel",
          "model_module_version": "1.5.0",
          "state": {
            "_dom_classes": [],
            "_model_module": "@jupyter-widgets/controls",
            "_model_module_version": "1.5.0",
            "_model_name": "HBoxModel",
            "_view_count": null,
            "_view_module": "@jupyter-widgets/controls",
            "_view_module_version": "1.5.0",
            "_view_name": "HBoxView",
            "box_style": "",
            "children": [
              "IPY_MODEL_379e46ae3db941fdaf869847f27b8adc",
              "IPY_MODEL_32f7ab7be66745359d0537325794f41a"
            ],
            "layout": "IPY_MODEL_2908639778884731abe7b25403c37cce"
          }
        },
        "3b2e5de2b555480cbee82c7cdf051ae3": {
          "model_module": "@jupyter-widgets/base",
          "model_name": "LayoutModel",
          "model_module_version": "1.2.0",
          "state": {
            "_model_module": "@jupyter-widgets/base",
            "_model_module_version": "1.2.0",
            "_model_name": "LayoutModel",
            "_view_count": null,
            "_view_module": "@jupyter-widgets/base",
            "_view_module_version": "1.2.0",
            "_view_name": "LayoutView",
            "align_content": null,
            "align_items": null,
            "align_self": null,
            "border": null,
            "bottom": null,
            "display": null,
            "flex": null,
            "flex_flow": null,
            "grid_area": null,
            "grid_auto_columns": null,
            "grid_auto_flow": null,
            "grid_auto_rows": null,
            "grid_column": null,
            "grid_gap": null,
            "grid_row": null,
            "grid_template_areas": null,
            "grid_template_columns": null,
            "grid_template_rows": null,
            "height": null,
            "justify_content": null,
            "justify_items": null,
            "left": null,
            "margin": null,
            "max_height": null,
            "max_width": null,
            "min_height": null,
            "min_width": null,
            "object_fit": null,
            "object_position": null,
            "order": null,
            "overflow": null,
            "overflow_x": null,
            "overflow_y": null,
            "padding": null,
            "right": null,
            "top": null,
            "visibility": null,
            "width": null
          }
        },
        "379e46ae3db941fdaf869847f27b8adc": {
          "model_module": "@jupyter-widgets/controls",
          "model_name": "IntProgressModel",
          "model_module_version": "1.5.0",
          "state": {
            "_dom_classes": [],
            "_model_module": "@jupyter-widgets/controls",
            "_model_module_version": "1.5.0",
            "_model_name": "IntProgressModel",
            "_view_count": null,
            "_view_module": "@jupyter-widgets/controls",
            "_view_module_version": "1.5.0",
            "_view_name": "ProgressView",
            "bar_style": "success",
            "description": "100.00%",
            "description_tooltip": null,
            "layout": "IPY_MODEL_b2ce16545b8f4c289899c8c2c6b8fa5f",
            "max": 74011,
            "min": 0,
            "orientation": "horizontal",
            "style": "IPY_MODEL_d3e694a7d15d4fa185d03590e7db2237",
            "value": 74011
          }
        },
        "32f7ab7be66745359d0537325794f41a": {
          "model_module": "@jupyter-widgets/controls",
          "model_name": "LabelModel",
          "model_module_version": "1.5.0",
          "state": {
            "_dom_classes": [],
            "_model_module": "@jupyter-widgets/controls",
            "_model_module_version": "1.5.0",
            "_model_name": "LabelModel",
            "_view_count": null,
            "_view_module": "@jupyter-widgets/controls",
            "_view_module_version": "1.5.0",
            "_view_name": "LabelView",
            "description": "",
            "description_tooltip": null,
            "layout": "IPY_MODEL_eb12b3e3f63d4bd3b26054f532617416",
            "placeholder": "​",
            "style": "IPY_MODEL_54d44a6b663841999eadd5451bf08ce4",
            "value": "74011 / 74011"
          }
        },
        "2908639778884731abe7b25403c37cce": {
          "model_module": "@jupyter-widgets/base",
          "model_name": "LayoutModel",
          "model_module_version": "1.2.0",
          "state": {
            "_model_module": "@jupyter-widgets/base",
            "_model_module_version": "1.2.0",
            "_model_name": "LayoutModel",
            "_view_count": null,
            "_view_module": "@jupyter-widgets/base",
            "_view_module_version": "1.2.0",
            "_view_name": "LayoutView",
            "align_content": null,
            "align_items": null,
            "align_self": null,
            "border": null,
            "bottom": null,
            "display": null,
            "flex": null,
            "flex_flow": null,
            "grid_area": null,
            "grid_auto_columns": null,
            "grid_auto_flow": null,
            "grid_auto_rows": null,
            "grid_column": null,
            "grid_gap": null,
            "grid_row": null,
            "grid_template_areas": null,
            "grid_template_columns": null,
            "grid_template_rows": null,
            "height": null,
            "justify_content": null,
            "justify_items": null,
            "left": null,
            "margin": null,
            "max_height": null,
            "max_width": null,
            "min_height": null,
            "min_width": null,
            "object_fit": null,
            "object_position": null,
            "order": null,
            "overflow": null,
            "overflow_x": null,
            "overflow_y": null,
            "padding": null,
            "right": null,
            "top": null,
            "visibility": null,
            "width": null
          }
        },
        "b2ce16545b8f4c289899c8c2c6b8fa5f": {
          "model_module": "@jupyter-widgets/base",
          "model_name": "LayoutModel",
          "model_module_version": "1.2.0",
          "state": {
            "_model_module": "@jupyter-widgets/base",
            "_model_module_version": "1.2.0",
            "_model_name": "LayoutModel",
            "_view_count": null,
            "_view_module": "@jupyter-widgets/base",
            "_view_module_version": "1.2.0",
            "_view_name": "LayoutView",
            "align_content": null,
            "align_items": null,
            "align_self": null,
            "border": null,
            "bottom": null,
            "display": null,
            "flex": null,
            "flex_flow": null,
            "grid_area": null,
            "grid_auto_columns": null,
            "grid_auto_flow": null,
            "grid_auto_rows": null,
            "grid_column": null,
            "grid_gap": null,
            "grid_row": null,
            "grid_template_areas": null,
            "grid_template_columns": null,
            "grid_template_rows": null,
            "height": null,
            "justify_content": null,
            "justify_items": null,
            "left": null,
            "margin": null,
            "max_height": null,
            "max_width": null,
            "min_height": null,
            "min_width": null,
            "object_fit": null,
            "object_position": null,
            "order": null,
            "overflow": null,
            "overflow_x": null,
            "overflow_y": null,
            "padding": null,
            "right": null,
            "top": null,
            "visibility": null,
            "width": null
          }
        },
        "d3e694a7d15d4fa185d03590e7db2237": {
          "model_module": "@jupyter-widgets/controls",
          "model_name": "ProgressStyleModel",
          "model_module_version": "1.5.0",
          "state": {
            "_model_module": "@jupyter-widgets/controls",
            "_model_module_version": "1.5.0",
            "_model_name": "ProgressStyleModel",
            "_view_count": null,
            "_view_module": "@jupyter-widgets/base",
            "_view_module_version": "1.2.0",
            "_view_name": "StyleView",
            "bar_color": null,
            "description_width": ""
          }
        },
        "eb12b3e3f63d4bd3b26054f532617416": {
          "model_module": "@jupyter-widgets/base",
          "model_name": "LayoutModel",
          "model_module_version": "1.2.0",
          "state": {
            "_model_module": "@jupyter-widgets/base",
            "_model_module_version": "1.2.0",
            "_model_name": "LayoutModel",
            "_view_count": null,
            "_view_module": "@jupyter-widgets/base",
            "_view_module_version": "1.2.0",
            "_view_name": "LayoutView",
            "align_content": null,
            "align_items": null,
            "align_self": null,
            "border": null,
            "bottom": null,
            "display": null,
            "flex": null,
            "flex_flow": null,
            "grid_area": null,
            "grid_auto_columns": null,
            "grid_auto_flow": null,
            "grid_auto_rows": null,
            "grid_column": null,
            "grid_gap": null,
            "grid_row": null,
            "grid_template_areas": null,
            "grid_template_columns": null,
            "grid_template_rows": null,
            "height": null,
            "justify_content": null,
            "justify_items": null,
            "left": null,
            "margin": null,
            "max_height": null,
            "max_width": null,
            "min_height": null,
            "min_width": null,
            "object_fit": null,
            "object_position": null,
            "order": null,
            "overflow": null,
            "overflow_x": null,
            "overflow_y": null,
            "padding": null,
            "right": null,
            "top": null,
            "visibility": null,
            "width": null
          }
        },
        "54d44a6b663841999eadd5451bf08ce4": {
          "model_module": "@jupyter-widgets/controls",
          "model_name": "DescriptionStyleModel",
          "model_module_version": "1.5.0",
          "state": {
            "_model_module": "@jupyter-widgets/controls",
            "_model_module_version": "1.5.0",
            "_model_name": "DescriptionStyleModel",
            "_view_count": null,
            "_view_module": "@jupyter-widgets/base",
            "_view_module_version": "1.2.0",
            "_view_name": "StyleView",
            "description_width": ""
          }
        }
      }
    }
  },
  "nbformat": 4,
  "nbformat_minor": 0
}